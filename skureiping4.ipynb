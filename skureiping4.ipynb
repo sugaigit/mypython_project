{
 "cells": [
  {
   "cell_type": "code",
   "execution_count": 117,
   "id": "aca16d6f-deee-4eea-b14c-457f2dc47e3f",
   "metadata": {},
   "outputs": [],
   "source": [
    "import requests\n",
    "from bs4 import BeautifulSoup"
   ]
  },
  {
   "cell_type": "code",
   "execution_count": 118,
   "id": "4c2a0e56-7f9d-404d-9d68-61fe4f440640",
   "metadata": {},
   "outputs": [],
   "source": [
    "url = 'https://scraping-for-beginner.herokuapp.com/ranking/'\n",
    "res = requests.get(url)"
   ]
  },
  {
   "cell_type": "code",
   "execution_count": 119,
   "id": "c133aeb2-d633-4323-a8e8-3c3d0516f76f",
   "metadata": {},
   "outputs": [
    {
     "data": {
      "text/plain": [
       "<Response [200]>"
      ]
     },
     "execution_count": 119,
     "metadata": {},
     "output_type": "execute_result"
    }
   ],
   "source": [
    "res"
   ]
  },
  {
   "cell_type": "code",
   "execution_count": 120,
   "id": "a494db90-c81e-4542-8cb0-c1ace346ec12",
   "metadata": {},
   "outputs": [],
   "source": [
    "soup = BeautifulSoup(res.text,'html.parser')\n",
    "#soup"
   ]
  },
  {
   "cell_type": "code",
   "execution_count": 121,
   "id": "25ef03be-76d8-4e81-8858-f86f9913ed57",
   "metadata": {},
   "outputs": [],
   "source": [
    "## 1つの観光地情報を取得"
   ]
  },
  {
   "cell_type": "code",
   "execution_count": 122,
   "id": "f686c1f2-faa2-4cf8-9627-884e73355dd0",
   "metadata": {},
   "outputs": [
    {
     "data": {
      "text/plain": [
       "<div class=\"u_title col s12\">\n",
       "<p><h2><span class=\"badge\">1</span>観光地 1</h2></p>\n",
       "</div>"
      ]
     },
     "execution_count": 122,
     "metadata": {},
     "output_type": "execute_result"
    }
   ],
   "source": [
    "#観光地名\n",
    "spots = soup.find_all('div',attrs={'class': 'u_areaListRankingBox'})\n",
    "spot = spots[0]\n",
    "spot_name = spot.find('div',attrs={'class': 'u_title'})\n",
    "spot_name"
   ]
  },
  {
   "cell_type": "code",
   "execution_count": 123,
   "id": "516a3fa5-1c2a-41d5-91ad-a203b0de6607",
   "metadata": {},
   "outputs": [
    {
     "data": {
      "text/plain": [
       "'\\n1観光地 1\\n'"
      ]
     },
     "execution_count": 123,
     "metadata": {},
     "output_type": "execute_result"
    }
   ],
   "source": [
    "spot_name.text"
   ]
  },
  {
   "cell_type": "code",
   "execution_count": 124,
   "id": "dcda6eef-1be7-4823-84bb-b5b36eb2728a",
   "metadata": {},
   "outputs": [
    {
     "data": {
      "text/plain": [
       "<span class=\"badge\">1</span>"
      ]
     },
     "execution_count": 124,
     "metadata": {},
     "output_type": "execute_result"
    }
   ],
   "source": [
    "spot_name.find('span', attrs={'class':'badge'}).extract()"
   ]
  },
  {
   "cell_type": "code",
   "execution_count": 125,
   "id": "280fa2a9-8d9b-40fa-bbc7-f3fcf05de618",
   "metadata": {},
   "outputs": [
    {
     "data": {
      "text/plain": [
       "'観光地 1'"
      ]
     },
     "execution_count": 125,
     "metadata": {},
     "output_type": "execute_result"
    }
   ],
   "source": [
    "spot_name = spot_name.text.replace('\\n','')\n",
    "spot_name"
   ]
  },
  {
   "cell_type": "code",
   "execution_count": 126,
   "id": "7d429c6f-957b-4c49-9167-2abcb8346a6d",
   "metadata": {},
   "outputs": [],
   "source": [
    "eval_num = spot.find('div',attrs={'class':'u_rankBox'}).text\n",
    "eval_num = float(eval_num.replace('\\n',''))"
   ]
  },
  {
   "cell_type": "code",
   "execution_count": 127,
   "id": "309c7611-d805-408a-a5cd-f8df22e68975",
   "metadata": {},
   "outputs": [
    {
     "data": {
      "text/plain": [
       "4.7"
      ]
     },
     "execution_count": 127,
     "metadata": {},
     "output_type": "execute_result"
    }
   ],
   "source": [
    "eval_num"
   ]
  },
  {
   "cell_type": "code",
   "execution_count": 128,
   "id": "d9d04b35-2226-41b7-8f65-6d4ba3dc7453",
   "metadata": {},
   "outputs": [
    {
     "data": {
      "text/plain": [
       "<div class=\"u_categoryTipsItem col s12\">\n",
       "<dl>\n",
       "<dt>楽しさ</dt>\n",
       "<dd class=\"is_rank\"><span class=\"evaluateNumber\">4.6</span></dd>\n",
       "<dd class=\"comment\">一人旅には最適でした</dd>\n",
       "</dl>\n",
       "<dl>\n",
       "<dt>人混みの多さ</dt>\n",
       "<dd class=\"is_rank\"><span class=\"evaluateNumber\">4.5</span></dd>\n",
       "<dd class=\"comment\">非常に混んでいた</dd>\n",
       "</dl>\n",
       "<dl>\n",
       "<dt>景色</dt>\n",
       "<dd class=\"is_rank\"><span class=\"evaluateNumber\">4.9</span></dd>\n",
       "<dd class=\"comment\">目を疑う超絶景であった</dd>\n",
       "</dl>\n",
       "<dl>\n",
       "<dt>アクセス</dt>\n",
       "<dd class=\"is_rank\"><span class=\"evaluateNumber\">4.2</span></dd>\n",
       "<dd class=\"comment\">飛行機で1時間ほどで着きました</dd>\n",
       "</dl>\n",
       "</div>"
      ]
     },
     "execution_count": 128,
     "metadata": {},
     "output_type": "execute_result"
    }
   ],
   "source": [
    "categoryItems = spot.find('div',attrs={'class':'u_categoryTipsItem'})\n",
    "categoryItems"
   ]
  },
  {
   "cell_type": "code",
   "execution_count": 129,
   "id": "23458100-bdcf-48c1-b358-8d2d2c13b523",
   "metadata": {},
   "outputs": [
    {
     "data": {
      "text/plain": [
       "[<dl>\n",
       " <dt>楽しさ</dt>\n",
       " <dd class=\"is_rank\"><span class=\"evaluateNumber\">4.6</span></dd>\n",
       " <dd class=\"comment\">一人旅には最適でした</dd>\n",
       " </dl>,\n",
       " <dl>\n",
       " <dt>人混みの多さ</dt>\n",
       " <dd class=\"is_rank\"><span class=\"evaluateNumber\">4.5</span></dd>\n",
       " <dd class=\"comment\">非常に混んでいた</dd>\n",
       " </dl>,\n",
       " <dl>\n",
       " <dt>景色</dt>\n",
       " <dd class=\"is_rank\"><span class=\"evaluateNumber\">4.9</span></dd>\n",
       " <dd class=\"comment\">目を疑う超絶景であった</dd>\n",
       " </dl>,\n",
       " <dl>\n",
       " <dt>アクセス</dt>\n",
       " <dd class=\"is_rank\"><span class=\"evaluateNumber\">4.2</span></dd>\n",
       " <dd class=\"comment\">飛行機で1時間ほどで着きました</dd>\n",
       " </dl>]"
      ]
     },
     "execution_count": 129,
     "metadata": {},
     "output_type": "execute_result"
    }
   ],
   "source": [
    "categoryItems = categoryItems.find_all('dl')\n",
    "categoryItems"
   ]
  },
  {
   "cell_type": "code",
   "execution_count": 142,
   "id": "fbb7749e-043e-4503-875b-229a9a5f36db",
   "metadata": {},
   "outputs": [
    {
     "data": {
      "text/plain": [
       "<dl>\n",
       "<dt>楽しさ</dt>\n",
       "<dd class=\"is_rank\"><span class=\"evaluateNumber\">4.6</span></dd>\n",
       "<dd class=\"comment\">一人旅には最適でした</dd>\n",
       "</dl>"
      ]
     },
     "execution_count": 142,
     "metadata": {},
     "output_type": "execute_result"
    }
   ],
   "source": [
    "#楽しさのみ取得\n",
    "categoryItem = categoryItems[0]\n",
    "categoryItem"
   ]
  },
  {
   "cell_type": "code",
   "execution_count": 143,
   "id": "752cbdf7-6d54-4cb3-a0c2-f8c2674276d5",
   "metadata": {},
   "outputs": [
    {
     "data": {
      "text/plain": [
       "'楽しさ'"
      ]
     },
     "execution_count": 143,
     "metadata": {},
     "output_type": "execute_result"
    }
   ],
   "source": [
    "category = categoryItem.dt.text\n",
    "category"
   ]
  },
  {
   "cell_type": "code",
   "execution_count": 146,
   "id": "898c63c1-6cf4-4fb3-bd2d-92cc12cf8b3c",
   "metadata": {},
   "outputs": [
    {
     "data": {
      "text/plain": [
       "4.6"
      ]
     },
     "execution_count": 146,
     "metadata": {},
     "output_type": "execute_result"
    }
   ],
   "source": [
    "rank = float(categoryItem.span.text)\n",
    "rank"
   ]
  },
  {
   "cell_type": "code",
   "execution_count": 149,
   "id": "94b4d89b-890d-490e-ab7e-3a25f0c80817",
   "metadata": {},
   "outputs": [],
   "source": [
    "details = {}\n",
    "\n",
    "for categoryItem in categoryItems:\n",
    "    category = categoryItem.dt.text\n",
    "    rank = float(categoryItem.span.text)\n",
    "\n",
    "    details[category] = rank"
   ]
  },
  {
   "cell_type": "code",
   "execution_count": 150,
   "id": "0ffa05c8-ea0f-4a22-bdf9-402305017fc4",
   "metadata": {},
   "outputs": [
    {
     "data": {
      "text/plain": [
       "{'楽しさ': 4.6, '人混みの多さ': 4.5, '景色': 4.9, 'アクセス': 4.2}"
      ]
     },
     "execution_count": 150,
     "metadata": {},
     "output_type": "execute_result"
    }
   ],
   "source": [
    "details"
   ]
  },
  {
   "cell_type": "code",
   "execution_count": 151,
   "id": "01d51669-df88-4528-9a05-1735a607b301",
   "metadata": {},
   "outputs": [],
   "source": [
    "datum = details\n",
    "datum['観光地名'] = spot_name\n",
    "datum['評点'] = eval_num"
   ]
  },
  {
   "cell_type": "code",
   "execution_count": 152,
   "id": "aa3bd64c-0659-44a7-8d07-db2a7f677692",
   "metadata": {},
   "outputs": [
    {
     "data": {
      "text/plain": [
       "{'楽しさ': 4.6, '人混みの多さ': 4.5, '景色': 4.9, 'アクセス': 4.2, '観光地名': '観光地 1', '評点': 4.7}"
      ]
     },
     "execution_count": 152,
     "metadata": {},
     "output_type": "execute_result"
    }
   ],
   "source": [
    "datum"
   ]
  },
  {
   "cell_type": "code",
   "execution_count": null,
   "id": "ff8a4253-5928-428b-9dd8-d530712eb90c",
   "metadata": {},
   "outputs": [],
   "source": []
  },
  {
   "cell_type": "code",
   "execution_count": 156,
   "id": "5205b587-7add-4999-89d6-b0dad3796b64",
   "metadata": {},
   "outputs": [],
   "source": [
    "\n",
    "soup = BeautifulSoup(res.text,'html.parser')\n",
    "\n",
    "data = []\n",
    "#観光地名\n",
    "spots = soup.find_all('div',attrs={'class': 'u_areaListRankingBox'})\n",
    "for spot in spots:\n",
    "    spot_name = spot.find('div',attrs={'class': 'u_title'})\n",
    "\n",
    "    spot_name.find('span', attrs={'class':'badge'}).extract()\n",
    "\n",
    "    spot_name = spot_name.text.replace('\\n','')\n",
    "\n",
    "    eval_num = spot.find('div',attrs={'class':'u_rankBox'}).text\n",
    "    eval_num = float(eval_num.replace('\\n',''))\n",
    "\n",
    "    categoryItems = spot.find('div',attrs={'class':'u_categoryTipsItem'})\n",
    "\n",
    "    categoryItems = categoryItems.find_all('dl')\n",
    "\n",
    "    details = {}\n",
    "\n",
    "    for categoryItem in categoryItems:\n",
    "        category = categoryItem.dt.text\n",
    "        rank = float(categoryItem.span.text)\n",
    "\n",
    "        details[category] = rank\n",
    "\n",
    "    datum = details\n",
    "    datum['観光地名'] = spot_name\n",
    "    datum['評点'] = eval_num\n",
    "    data.append(datum)"
   ]
  },
  {
   "cell_type": "code",
   "execution_count": 157,
   "id": "424131de-c36c-47b0-813f-a4d311fabcba",
   "metadata": {},
   "outputs": [
    {
     "data": {
      "text/plain": [
       "[{'楽しさ': 4.6,\n",
       "  '人混みの多さ': 4.5,\n",
       "  '景色': 4.9,\n",
       "  'アクセス': 4.2,\n",
       "  '観光地名': '観光地 1',\n",
       "  '評点': 4.7},\n",
       " {'楽しさ': 4.6,\n",
       "  '人混みの多さ': 4.5,\n",
       "  '景色': 4.9,\n",
       "  'アクセス': 4.2,\n",
       "  '観光地名': '観光地 2',\n",
       "  '評点': 4.7},\n",
       " {'楽しさ': 4.5,\n",
       "  '人混みの多さ': 4.4,\n",
       "  '景色': 4.8,\n",
       "  'アクセス': 4.1,\n",
       "  '観光地名': '観光地 3',\n",
       "  '評点': 4.6},\n",
       " {'楽しさ': 4.4,\n",
       "  '人混みの多さ': 4.4,\n",
       "  '景色': 4.8,\n",
       "  'アクセス': 4.0,\n",
       "  '観光地名': '観光地 4',\n",
       "  '評点': 4.5},\n",
       " {'楽しさ': 4.4,\n",
       "  '人混みの多さ': 4.3,\n",
       "  '景色': 4.7,\n",
       "  'アクセス': 4.0,\n",
       "  '観光地名': '観光地 5',\n",
       "  '評点': 4.5},\n",
       " {'楽しさ': 4.3,\n",
       "  '人混みの多さ': 4.3,\n",
       "  '景色': 4.7,\n",
       "  'アクセス': 3.9,\n",
       "  '観光地名': '観光地 6',\n",
       "  '評点': 4.4},\n",
       " {'楽しさ': 4.2,\n",
       "  '人混みの多さ': 4.2,\n",
       "  '景色': 4.6,\n",
       "  'アクセス': 3.8,\n",
       "  '観光地名': '観光地 7',\n",
       "  '評点': 4.3},\n",
       " {'楽しさ': 4.2,\n",
       "  '人混みの多さ': 4.2,\n",
       "  '景色': 4.6,\n",
       "  'アクセス': 3.8,\n",
       "  '観光地名': '観光地 8',\n",
       "  '評点': 4.3},\n",
       " {'楽しさ': 4.1,\n",
       "  '人混みの多さ': 4.1,\n",
       "  '景色': 4.5,\n",
       "  'アクセス': 3.7,\n",
       "  '観光地名': '観光地 9',\n",
       "  '評点': 4.2},\n",
       " {'楽しさ': 4.0,\n",
       "  '人混みの多さ': 4.1,\n",
       "  '景色': 4.4,\n",
       "  'アクセス': 3.6,\n",
       "  '観光地名': '観光地 10',\n",
       "  '評点': 4.1}]"
      ]
     },
     "execution_count": 157,
     "metadata": {},
     "output_type": "execute_result"
    }
   ],
   "source": [
    "data"
   ]
  },
  {
   "cell_type": "code",
   "execution_count": 158,
   "id": "964e48d5-59f9-4fc4-ad5e-211c75fd328f",
   "metadata": {},
   "outputs": [],
   "source": [
    "import pandas as pd"
   ]
  },
  {
   "cell_type": "code",
   "execution_count": 159,
   "id": "f6e51973-523d-47b1-9da8-1853dfe0574a",
   "metadata": {},
   "outputs": [],
   "source": [
    "df = pd.DataFrame(data)"
   ]
  },
  {
   "cell_type": "code",
   "execution_count": 160,
   "id": "6c725788-3868-4493-85c2-0611f0b3c5e6",
   "metadata": {},
   "outputs": [
    {
     "data": {
      "text/html": [
       "<div>\n",
       "<style scoped>\n",
       "    .dataframe tbody tr th:only-of-type {\n",
       "        vertical-align: middle;\n",
       "    }\n",
       "\n",
       "    .dataframe tbody tr th {\n",
       "        vertical-align: top;\n",
       "    }\n",
       "\n",
       "    .dataframe thead th {\n",
       "        text-align: right;\n",
       "    }\n",
       "</style>\n",
       "<table border=\"1\" class=\"dataframe\">\n",
       "  <thead>\n",
       "    <tr style=\"text-align: right;\">\n",
       "      <th></th>\n",
       "      <th>楽しさ</th>\n",
       "      <th>人混みの多さ</th>\n",
       "      <th>景色</th>\n",
       "      <th>アクセス</th>\n",
       "      <th>観光地名</th>\n",
       "      <th>評点</th>\n",
       "    </tr>\n",
       "  </thead>\n",
       "  <tbody>\n",
       "    <tr>\n",
       "      <th>0</th>\n",
       "      <td>4.6</td>\n",
       "      <td>4.5</td>\n",
       "      <td>4.9</td>\n",
       "      <td>4.2</td>\n",
       "      <td>観光地 1</td>\n",
       "      <td>4.7</td>\n",
       "    </tr>\n",
       "    <tr>\n",
       "      <th>1</th>\n",
       "      <td>4.6</td>\n",
       "      <td>4.5</td>\n",
       "      <td>4.9</td>\n",
       "      <td>4.2</td>\n",
       "      <td>観光地 2</td>\n",
       "      <td>4.7</td>\n",
       "    </tr>\n",
       "    <tr>\n",
       "      <th>2</th>\n",
       "      <td>4.5</td>\n",
       "      <td>4.4</td>\n",
       "      <td>4.8</td>\n",
       "      <td>4.1</td>\n",
       "      <td>観光地 3</td>\n",
       "      <td>4.6</td>\n",
       "    </tr>\n",
       "    <tr>\n",
       "      <th>3</th>\n",
       "      <td>4.4</td>\n",
       "      <td>4.4</td>\n",
       "      <td>4.8</td>\n",
       "      <td>4.0</td>\n",
       "      <td>観光地 4</td>\n",
       "      <td>4.5</td>\n",
       "    </tr>\n",
       "    <tr>\n",
       "      <th>4</th>\n",
       "      <td>4.4</td>\n",
       "      <td>4.3</td>\n",
       "      <td>4.7</td>\n",
       "      <td>4.0</td>\n",
       "      <td>観光地 5</td>\n",
       "      <td>4.5</td>\n",
       "    </tr>\n",
       "    <tr>\n",
       "      <th>5</th>\n",
       "      <td>4.3</td>\n",
       "      <td>4.3</td>\n",
       "      <td>4.7</td>\n",
       "      <td>3.9</td>\n",
       "      <td>観光地 6</td>\n",
       "      <td>4.4</td>\n",
       "    </tr>\n",
       "    <tr>\n",
       "      <th>6</th>\n",
       "      <td>4.2</td>\n",
       "      <td>4.2</td>\n",
       "      <td>4.6</td>\n",
       "      <td>3.8</td>\n",
       "      <td>観光地 7</td>\n",
       "      <td>4.3</td>\n",
       "    </tr>\n",
       "    <tr>\n",
       "      <th>7</th>\n",
       "      <td>4.2</td>\n",
       "      <td>4.2</td>\n",
       "      <td>4.6</td>\n",
       "      <td>3.8</td>\n",
       "      <td>観光地 8</td>\n",
       "      <td>4.3</td>\n",
       "    </tr>\n",
       "    <tr>\n",
       "      <th>8</th>\n",
       "      <td>4.1</td>\n",
       "      <td>4.1</td>\n",
       "      <td>4.5</td>\n",
       "      <td>3.7</td>\n",
       "      <td>観光地 9</td>\n",
       "      <td>4.2</td>\n",
       "    </tr>\n",
       "    <tr>\n",
       "      <th>9</th>\n",
       "      <td>4.0</td>\n",
       "      <td>4.1</td>\n",
       "      <td>4.4</td>\n",
       "      <td>3.6</td>\n",
       "      <td>観光地 10</td>\n",
       "      <td>4.1</td>\n",
       "    </tr>\n",
       "  </tbody>\n",
       "</table>\n",
       "</div>"
      ],
      "text/plain": [
       "   楽しさ  人混みの多さ   景色  アクセス    観光地名   評点\n",
       "0  4.6     4.5  4.9   4.2   観光地 1  4.7\n",
       "1  4.6     4.5  4.9   4.2   観光地 2  4.7\n",
       "2  4.5     4.4  4.8   4.1   観光地 3  4.6\n",
       "3  4.4     4.4  4.8   4.0   観光地 4  4.5\n",
       "4  4.4     4.3  4.7   4.0   観光地 5  4.5\n",
       "5  4.3     4.3  4.7   3.9   観光地 6  4.4\n",
       "6  4.2     4.2  4.6   3.8   観光地 7  4.3\n",
       "7  4.2     4.2  4.6   3.8   観光地 8  4.3\n",
       "8  4.1     4.1  4.5   3.7   観光地 9  4.2\n",
       "9  4.0     4.1  4.4   3.6  観光地 10  4.1"
      ]
     },
     "execution_count": 160,
     "metadata": {},
     "output_type": "execute_result"
    }
   ],
   "source": [
    "df"
   ]
  },
  {
   "cell_type": "code",
   "execution_count": 161,
   "id": "77a714be-b975-42c4-ad6b-6007dc0430af",
   "metadata": {},
   "outputs": [
    {
     "data": {
      "text/plain": [
       "Index(['楽しさ', '人混みの多さ', '景色', 'アクセス', '観光地名', '評点'], dtype='object')"
      ]
     },
     "execution_count": 161,
     "metadata": {},
     "output_type": "execute_result"
    }
   ],
   "source": [
    "df.columns"
   ]
  },
  {
   "cell_type": "code",
   "execution_count": 163,
   "id": "f439e6c9-800d-4afe-92d5-071e5357d736",
   "metadata": {},
   "outputs": [
    {
     "data": {
      "text/html": [
       "<div>\n",
       "<style scoped>\n",
       "    .dataframe tbody tr th:only-of-type {\n",
       "        vertical-align: middle;\n",
       "    }\n",
       "\n",
       "    .dataframe tbody tr th {\n",
       "        vertical-align: top;\n",
       "    }\n",
       "\n",
       "    .dataframe thead th {\n",
       "        text-align: right;\n",
       "    }\n",
       "</style>\n",
       "<table border=\"1\" class=\"dataframe\">\n",
       "  <thead>\n",
       "    <tr style=\"text-align: right;\">\n",
       "      <th></th>\n",
       "      <th>観光地名</th>\n",
       "      <th>評点</th>\n",
       "      <th>楽しさ</th>\n",
       "      <th>人混みの多さ</th>\n",
       "      <th>景色</th>\n",
       "      <th>アクセス</th>\n",
       "    </tr>\n",
       "  </thead>\n",
       "  <tbody>\n",
       "    <tr>\n",
       "      <th>0</th>\n",
       "      <td>観光地 1</td>\n",
       "      <td>4.7</td>\n",
       "      <td>4.6</td>\n",
       "      <td>4.5</td>\n",
       "      <td>4.9</td>\n",
       "      <td>4.2</td>\n",
       "    </tr>\n",
       "    <tr>\n",
       "      <th>1</th>\n",
       "      <td>観光地 2</td>\n",
       "      <td>4.7</td>\n",
       "      <td>4.6</td>\n",
       "      <td>4.5</td>\n",
       "      <td>4.9</td>\n",
       "      <td>4.2</td>\n",
       "    </tr>\n",
       "    <tr>\n",
       "      <th>2</th>\n",
       "      <td>観光地 3</td>\n",
       "      <td>4.6</td>\n",
       "      <td>4.5</td>\n",
       "      <td>4.4</td>\n",
       "      <td>4.8</td>\n",
       "      <td>4.1</td>\n",
       "    </tr>\n",
       "    <tr>\n",
       "      <th>3</th>\n",
       "      <td>観光地 4</td>\n",
       "      <td>4.5</td>\n",
       "      <td>4.4</td>\n",
       "      <td>4.4</td>\n",
       "      <td>4.8</td>\n",
       "      <td>4.0</td>\n",
       "    </tr>\n",
       "    <tr>\n",
       "      <th>4</th>\n",
       "      <td>観光地 5</td>\n",
       "      <td>4.5</td>\n",
       "      <td>4.4</td>\n",
       "      <td>4.3</td>\n",
       "      <td>4.7</td>\n",
       "      <td>4.0</td>\n",
       "    </tr>\n",
       "    <tr>\n",
       "      <th>5</th>\n",
       "      <td>観光地 6</td>\n",
       "      <td>4.4</td>\n",
       "      <td>4.3</td>\n",
       "      <td>4.3</td>\n",
       "      <td>4.7</td>\n",
       "      <td>3.9</td>\n",
       "    </tr>\n",
       "    <tr>\n",
       "      <th>6</th>\n",
       "      <td>観光地 7</td>\n",
       "      <td>4.3</td>\n",
       "      <td>4.2</td>\n",
       "      <td>4.2</td>\n",
       "      <td>4.6</td>\n",
       "      <td>3.8</td>\n",
       "    </tr>\n",
       "    <tr>\n",
       "      <th>7</th>\n",
       "      <td>観光地 8</td>\n",
       "      <td>4.3</td>\n",
       "      <td>4.2</td>\n",
       "      <td>4.2</td>\n",
       "      <td>4.6</td>\n",
       "      <td>3.8</td>\n",
       "    </tr>\n",
       "    <tr>\n",
       "      <th>8</th>\n",
       "      <td>観光地 9</td>\n",
       "      <td>4.2</td>\n",
       "      <td>4.1</td>\n",
       "      <td>4.1</td>\n",
       "      <td>4.5</td>\n",
       "      <td>3.7</td>\n",
       "    </tr>\n",
       "    <tr>\n",
       "      <th>9</th>\n",
       "      <td>観光地 10</td>\n",
       "      <td>4.1</td>\n",
       "      <td>4.0</td>\n",
       "      <td>4.1</td>\n",
       "      <td>4.4</td>\n",
       "      <td>3.6</td>\n",
       "    </tr>\n",
       "  </tbody>\n",
       "</table>\n",
       "</div>"
      ],
      "text/plain": [
       "     観光地名   評点  楽しさ  人混みの多さ   景色  アクセス\n",
       "0   観光地 1  4.7  4.6     4.5  4.9   4.2\n",
       "1   観光地 2  4.7  4.6     4.5  4.9   4.2\n",
       "2   観光地 3  4.6  4.5     4.4  4.8   4.1\n",
       "3   観光地 4  4.5  4.4     4.4  4.8   4.0\n",
       "4   観光地 5  4.5  4.4     4.3  4.7   4.0\n",
       "5   観光地 6  4.4  4.3     4.3  4.7   3.9\n",
       "6   観光地 7  4.3  4.2     4.2  4.6   3.8\n",
       "7   観光地 8  4.3  4.2     4.2  4.6   3.8\n",
       "8   観光地 9  4.2  4.1     4.1  4.5   3.7\n",
       "9  観光地 10  4.1  4.0     4.1  4.4   3.6"
      ]
     },
     "execution_count": 163,
     "metadata": {},
     "output_type": "execute_result"
    }
   ],
   "source": [
    "df = df[['観光地名', '評点','楽しさ', '人混みの多さ', '景色', 'アクセス']]\n",
    "df"
   ]
  },
  {
   "cell_type": "code",
   "execution_count": 164,
   "id": "9bfa306c-7b90-452a-87de-1754bed99f7d",
   "metadata": {},
   "outputs": [],
   "source": [
    "df.to_csv('観光地情報.csv', index=False)"
   ]
  },
  {
   "cell_type": "code",
   "execution_count": null,
   "id": "cd98999d-ba91-45b0-babd-c373d95bb782",
   "metadata": {},
   "outputs": [],
   "source": []
  }
 ],
 "metadata": {
  "kernelspec": {
   "display_name": "Python 3",
   "language": "python",
   "name": "python3"
  },
  "language_info": {
   "codemirror_mode": {
    "name": "ipython",
    "version": 3
   },
   "file_extension": ".py",
   "mimetype": "text/x-python",
   "name": "python",
   "nbconvert_exporter": "python",
   "pygments_lexer": "ipython3",
   "version": "3.8.8"
  }
 },
 "nbformat": 4,
 "nbformat_minor": 5
}
