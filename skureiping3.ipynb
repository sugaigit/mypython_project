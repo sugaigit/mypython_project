{
 "cells": [
  {
   "cell_type": "code",
   "execution_count": 2,
   "id": "f2dfabe0-e3b7-484c-bae7-eb4610173f9b",
   "metadata": {},
   "outputs": [
    {
     "name": "stdout",
     "output_type": "stream",
     "text": [
      "Requirement already satisfied: requests in /Users/sugaitaisei/opt/anaconda3/lib/python3.8/site-packages (2.26.0)\n",
      "Requirement already satisfied: charset-normalizer~=2.0.0 in /Users/sugaitaisei/opt/anaconda3/lib/python3.8/site-packages (from requests) (2.0.4)\n",
      "Requirement already satisfied: certifi>=2017.4.17 in /Users/sugaitaisei/opt/anaconda3/lib/python3.8/site-packages (from requests) (2020.12.5)\n",
      "Requirement already satisfied: idna<4,>=2.5 in /Users/sugaitaisei/opt/anaconda3/lib/python3.8/site-packages (from requests) (2.10)\n",
      "Requirement already satisfied: urllib3<1.27,>=1.21.1 in /Users/sugaitaisei/opt/anaconda3/lib/python3.8/site-packages (from requests) (1.26.4)\n"
     ]
    }
   ],
   "source": [
    "!pip install requests"
   ]
  },
  {
   "cell_type": "code",
   "execution_count": 4,
   "id": "689a52b7-1513-4591-9965-a940f2cef9d7",
   "metadata": {},
   "outputs": [
    {
     "name": "stdout",
     "output_type": "stream",
     "text": [
      "Requirement already satisfied: BeautifulSoup4 in /Users/sugaitaisei/opt/anaconda3/lib/python3.8/site-packages (4.6.0)\n"
     ]
    }
   ],
   "source": [
    "!pip install BeautifulSoup4"
   ]
  },
  {
   "cell_type": "code",
   "execution_count": 5,
   "id": "0f7009dc-4ffa-4811-a947-d10983e2f0a2",
   "metadata": {},
   "outputs": [],
   "source": [
    "import requests\n",
    "from bs4 import BeautifulSoup"
   ]
  },
  {
   "cell_type": "code",
   "execution_count": 6,
   "id": "54350fe8-f7f2-4a02-a111-2ce457071654",
   "metadata": {},
   "outputs": [],
   "source": [
    "url='https://scraping-for-beginner.herokuapp.com/udemy'\n",
    "res = requests.get(url)"
   ]
  },
  {
   "cell_type": "code",
   "execution_count": 7,
   "id": "6a6756d5-e753-45b9-8cc7-d4c1ae4cc96f",
   "metadata": {},
   "outputs": [
    {
     "data": {
      "text/plain": [
       "<Response [200]>"
      ]
     },
     "execution_count": 7,
     "metadata": {},
     "output_type": "execute_result"
    }
   ],
   "source": [
    "res"
   ]
  },
  {
   "cell_type": "code",
   "execution_count": 8,
   "id": "35d61ab8-1c64-4d84-b6cc-e8e390469a12",
   "metadata": {},
   "outputs": [
    {
     "data": {
      "text/plain": [
       "'<!DOCTYPE html>\\n<html lang=\"en\" dir=\"ltr\">\\n<head>\\n  <meta charset=\"utf-8\">\\n  <title>Webスクレイピング入門者のためのサイト</title>\\n  <!-- Compiled and minified CSS -->\\n  <link rel=\"stylesheet\" href=\"https://cdnjs.cloudflare.com/ajax/libs/materialize/1.0.0-rc.2/css/materialize.min.css\">\\n  <link href=\"https://fonts.googleapis.com/icon?family=Material+Icons\" rel=\"stylesheet\"> \\x08\\n  <link rel=\"stylesheet\" href=\"static/assets/css/style.css\">\\n  <link rel=\"stylesheet\" href=\"static/assets/css/udemy.css\">\\n  <!-- <link rel=\"stylesheet\" href=\"static/assets/css/mypage.css\"> -->\\n</head>\\n\\n<body>\\n  <!-- Navbar -->\\n  <div class=\"navbar-fixed\">\\n    <!-- Dropdown Structure -->\\n    <nav class=\"\">\\n      <div class=\"nav-wrapper row\">\\n        <div class=\"col s5 l4 offset-s1 offset-l1\">\\n          <a href=\"\\x08/\" class=\"brand-logo\">Webスクレイピング入門</a>\\n        </div>\\n        <div class=\"col s5 l6\">\\n          <ul id=\"nav-mobile\" class=\"right hide-on-med-and-down\">\\n            <li><a href=\"\\x08/login_page\" class=\"\">ログイン</a></li>\\n            <li><a href=\"/ranking/\" class=\"\">ランキング</a></li>\\n            <li><a href=\"/image\" class=\"\">画像</a></li>\\n            <li><a href=\"/udemy\" class=\"\">Udemy</a></li>\\n            <li><a href=\"https://scraping-for-beginner.readthedocs.io/\" target=”_blank” class=\"\">サンプルコード</a></li>\\n          </ul>\\n        </div>\\n      </div>\\n    </nav>\\n  </div>\\n\\n  \\n\\n<div class=\"row\">\\n  <div class=\"col s4 offset-s4\">\\n    <div class=\"overview\">\\n      <p>\\n      こちらのページは、<b>PythonによるWebスクレイピング〜Webアプリケーション編〜</b>で使用します。\\n      </p>\\n    </div>\\n    <div class=\"\">\\n      <div class=\"\">\\n        <div class=\"card\">\\n          <div class=\"card-image\">\\n            <img src=\"/static/assets/img/self-introduction.jpg\">\\n            <span class=\"card-title\">今西 航平</span>\\n          </div>\\n          <div class=\"card-content\">\\n            <p><b><p class=\"position\">株式会社キカガク 取締役副社長</p></b><br>\\n\\n              東京理科大学在学中に株式会社キカガクに1人目の正社員としてジョイン。大学時代4年間、塾講師として「教育」に熱中し、300名以上の中高生の授業を担当。<br>\\n\\n            </p>\\n          </div>\\n          <div class=\"card-action\">\\n              <p class=\"subscribers\">受講生の数：12888</p>\\n              <p class=\"reviews\">レビューの数：2284</p>\\n          </div>\\n        </div>\\n      </div>\\n    </div>\\n\\n  </div>\\n</div>\\n\\n\\n  <!-- Compiled and minified JavaScript -->\\n  <script src=\"https://code.jquery.com/jquery-3.3.1.min.js\"></script>\\n  <script src=\"https://cdnjs.cloudflare.com/ajax/libs/materialize/1.0.0-rc.2/js/materialize.min.js\"></script>\\n  <script type=\"text/javascript\">\\n    $(document).ready(function() {\\n      $(\".dropdown-trigger\").dropdown();\\n    });\\n  </script>\\n\\n\\n</body>\\n\\n</html>'"
      ]
     },
     "execution_count": 8,
     "metadata": {},
     "output_type": "execute_result"
    }
   ],
   "source": [
    "res.text"
   ]
  },
  {
   "cell_type": "code",
   "execution_count": 12,
   "id": "6e749f45-905a-4cdd-bcf4-ecdba6c9b6cf",
   "metadata": {},
   "outputs": [
    {
     "data": {
      "text/plain": [
       "<!DOCTYPE html>\n",
       "\n",
       "<html dir=\"ltr\" lang=\"en\">\n",
       "<head>\n",
       "<meta charset=\"utf-8\"/>\n",
       "<title>Webスクレイピング入門者のためのサイト</title>\n",
       "<!-- Compiled and minified CSS -->\n",
       "<link href=\"https://cdnjs.cloudflare.com/ajax/libs/materialize/1.0.0-rc.2/css/materialize.min.css\" rel=\"stylesheet\"/>\n",
       "<link href=\"https://fonts.googleapis.com/icon?family=Material+Icons\" rel=\"stylesheet\"/> \b\n",
       "  <link href=\"static/assets/css/style.css\" rel=\"stylesheet\"/>\n",
       "<link href=\"static/assets/css/udemy.css\" rel=\"stylesheet\"/>\n",
       "<!-- <link rel=\"stylesheet\" href=\"static/assets/css/mypage.css\"> -->\n",
       "</head>\n",
       "<body>\n",
       "<!-- Navbar -->\n",
       "<div class=\"navbar-fixed\">\n",
       "<!-- Dropdown Structure -->\n",
       "<nav class=\"\">\n",
       "<div class=\"nav-wrapper row\">\n",
       "<div class=\"col s5 l4 offset-s1 offset-l1\">\n",
       "<a class=\"brand-logo\" href=\"\b/\">Webスクレイピング入門</a>\n",
       "</div>\n",
       "<div class=\"col s5 l6\">\n",
       "<ul class=\"right hide-on-med-and-down\" id=\"nav-mobile\">\n",
       "<li><a class=\"\" href=\"\b/login_page\">ログイン</a></li>\n",
       "<li><a class=\"\" href=\"/ranking/\">ランキング</a></li>\n",
       "<li><a class=\"\" href=\"/image\">画像</a></li>\n",
       "<li><a class=\"\" href=\"/udemy\">Udemy</a></li>\n",
       "<li><a class=\"\" href=\"https://scraping-for-beginner.readthedocs.io/\" target=\"”_blank”\">サンプルコード</a></li>\n",
       "</ul>\n",
       "</div>\n",
       "</div>\n",
       "</nav>\n",
       "</div>\n",
       "<div class=\"row\">\n",
       "<div class=\"col s4 offset-s4\">\n",
       "<div class=\"overview\">\n",
       "<p>\n",
       "      こちらのページは、<b>PythonによるWebスクレイピング〜Webアプリケーション編〜</b>で使用します。\n",
       "      </p>\n",
       "</div>\n",
       "<div class=\"\">\n",
       "<div class=\"\">\n",
       "<div class=\"card\">\n",
       "<div class=\"card-image\">\n",
       "<img src=\"/static/assets/img/self-introduction.jpg\"/>\n",
       "<span class=\"card-title\">今西 航平</span>\n",
       "</div>\n",
       "<div class=\"card-content\">\n",
       "<p><b><p class=\"position\">株式会社キカガク 取締役副社長</p></b><br/>\n",
       "\n",
       "              東京理科大学在学中に株式会社キカガクに1人目の正社員としてジョイン。大学時代4年間、塾講師として「教育」に熱中し、300名以上の中高生の授業を担当。<br/>\n",
       "</p>\n",
       "</div>\n",
       "<div class=\"card-action\">\n",
       "<p class=\"subscribers\">受講生の数：12888</p>\n",
       "<p class=\"reviews\">レビューの数：2284</p>\n",
       "</div>\n",
       "</div>\n",
       "</div>\n",
       "</div>\n",
       "</div>\n",
       "</div>\n",
       "<!-- Compiled and minified JavaScript -->\n",
       "<script src=\"https://code.jquery.com/jquery-3.3.1.min.js\"></script>\n",
       "<script src=\"https://cdnjs.cloudflare.com/ajax/libs/materialize/1.0.0-rc.2/js/materialize.min.js\"></script>\n",
       "<script type=\"text/javascript\">\n",
       "    $(document).ready(function() {\n",
       "      $(\".dropdown-trigger\").dropdown();\n",
       "    });\n",
       "  </script>\n",
       "</body>\n",
       "</html>"
      ]
     },
     "execution_count": 12,
     "metadata": {},
     "output_type": "execute_result"
    }
   ],
   "source": [
    "soup = BeautifulSoup(res.text,'html.parser')\n",
    "soup"
   ]
  },
  {
   "cell_type": "code",
   "execution_count": 14,
   "id": "fe423c86-9429-42bf-ae16-0c0c68200042",
   "metadata": {},
   "outputs": [
    {
     "data": {
      "text/plain": [
       "[<p>\n",
       "       こちらのページは、<b>PythonによるWebスクレイピング〜Webアプリケーション編〜</b>で使用します。\n",
       "       </p>,\n",
       " <p><b><p class=\"position\">株式会社キカガク 取締役副社長</p></b><br/>\n",
       " \n",
       "               東京理科大学在学中に株式会社キカガクに1人目の正社員としてジョイン。大学時代4年間、塾講師として「教育」に熱中し、300名以上の中高生の授業を担当。<br/>\n",
       " </p>,\n",
       " <p class=\"position\">株式会社キカガク 取締役副社長</p>,\n",
       " <p class=\"subscribers\">受講生の数：12888</p>,\n",
       " <p class=\"reviews\">レビューの数：2284</p>]"
      ]
     },
     "execution_count": 14,
     "metadata": {},
     "output_type": "execute_result"
    }
   ],
   "source": [
    "soup.find_all('p')"
   ]
  },
  {
   "cell_type": "code",
   "execution_count": 15,
   "id": "28d18313-47e3-4a8c-852a-6399126d1bb8",
   "metadata": {},
   "outputs": [
    {
     "data": {
      "text/plain": [
       "<p>\n",
       "      こちらのページは、<b>PythonによるWebスクレイピング〜Webアプリケーション編〜</b>で使用します。\n",
       "      </p>"
      ]
     },
     "execution_count": 15,
     "metadata": {},
     "output_type": "execute_result"
    }
   ],
   "source": [
    "soup.p"
   ]
  },
  {
   "cell_type": "code",
   "execution_count": 17,
   "id": "53c04ebc-ad50-4ef5-b235-c009c6f3aef3",
   "metadata": {},
   "outputs": [
    {
     "data": {
      "text/plain": [
       "<p>\n",
       "      こちらのページは、<b>PythonによるWebスクレイピング〜Webアプリケーション編〜</b>で使用します。\n",
       "      </p>"
      ]
     },
     "execution_count": 17,
     "metadata": {},
     "output_type": "execute_result"
    }
   ],
   "source": [
    "soup.find('p')"
   ]
  },
  {
   "cell_type": "code",
   "execution_count": 18,
   "id": "a557b8dc-d2d3-413d-9445-c8d583b08c2d",
   "metadata": {},
   "outputs": [
    {
     "data": {
      "text/plain": [
       "'\\n      こちらのページは、PythonによるWebスクレイピング〜Webアプリケーション編〜で使用します。\\n      '"
      ]
     },
     "execution_count": 18,
     "metadata": {},
     "output_type": "execute_result"
    }
   ],
   "source": [
    "soup.p.text"
   ]
  },
  {
   "cell_type": "code",
   "execution_count": 31,
   "id": "4d37f30c-66db-473b-bf68-a78dcdff5b37",
   "metadata": {},
   "outputs": [
    {
     "data": {
      "text/plain": [
       "<p class=\"subscribers\">受講生の数：12888</p>"
      ]
     },
     "execution_count": 31,
     "metadata": {},
     "output_type": "execute_result"
    }
   ],
   "source": [
    "subscribers = soup.find_all('p', attrs={'class': 'subscribers'})[0]\n",
    "subscribers"
   ]
  },
  {
   "cell_type": "code",
   "execution_count": 29,
   "id": "ef63d942-b4c7-4372-81e3-5c3f822927cc",
   "metadata": {},
   "outputs": [
    {
     "data": {
      "text/plain": [
       "12888"
      ]
     },
     "execution_count": 29,
     "metadata": {},
     "output_type": "execute_result"
    }
   ],
   "source": [
    "n_subscribers = int(subscribers.text.split('：')[1])\n",
    "n_subscribers "
   ]
  },
  {
   "cell_type": "code",
   "execution_count": 30,
   "id": "51c4063d-9f61-4ce2-a591-6e61700f9a80",
   "metadata": {},
   "outputs": [
    {
     "data": {
      "text/plain": [
       "int"
      ]
     },
     "execution_count": 30,
     "metadata": {},
     "output_type": "execute_result"
    }
   ],
   "source": [
    "type(n_subscribers)"
   ]
  },
  {
   "cell_type": "code",
   "execution_count": 39,
   "id": "fd93a686-d572-4103-bcaf-a0130f17f207",
   "metadata": {},
   "outputs": [],
   "source": [
    "reviews = soup.find_all('p', attrs={'class': 'reviews'})[0]\n",
    "n_reviews = int(reviews.text.split('：')[1])"
   ]
  },
  {
   "cell_type": "code",
   "execution_count": 42,
   "id": "571ceab3-00f1-4897-9a48-cab931402419",
   "metadata": {},
   "outputs": [
    {
     "data": {
      "text/plain": [
       "2284"
      ]
     },
     "execution_count": 42,
     "metadata": {},
     "output_type": "execute_result"
    }
   ],
   "source": [
    "n_reviews"
   ]
  },
  {
   "cell_type": "code",
   "execution_count": 47,
   "id": "426a6c34-3687-401c-a1ff-f5f89704fc44",
   "metadata": {},
   "outputs": [
    {
     "data": {
      "text/plain": [
       "<p class=\"subscribers\">受講生の数：12888</p>"
      ]
     },
     "execution_count": 47,
     "metadata": {},
     "output_type": "execute_result"
    }
   ],
   "source": [
    "soup.select_one('.subscribers')"
   ]
  },
  {
   "cell_type": "code",
   "execution_count": 48,
   "id": "91ad11d8-680b-4635-a971-4c4a46a26aed",
   "metadata": {},
   "outputs": [
    {
     "data": {
      "text/plain": [
       "'レビューの数：2284'"
      ]
     },
     "execution_count": 48,
     "metadata": {},
     "output_type": "execute_result"
    }
   ],
   "source": [
    "soup.select_one('.reviews').text"
   ]
  },
  {
   "cell_type": "code",
   "execution_count": null,
   "id": "c7d063f1-bb75-4f81-997b-7270237cbc08",
   "metadata": {},
   "outputs": [],
   "source": []
  }
 ],
 "metadata": {
  "kernelspec": {
   "display_name": "Python 3",
   "language": "python",
   "name": "python3"
  },
  "language_info": {
   "codemirror_mode": {
    "name": "ipython",
    "version": 3
   },
   "file_extension": ".py",
   "mimetype": "text/x-python",
   "name": "python",
   "nbconvert_exporter": "python",
   "pygments_lexer": "ipython3",
   "version": "3.8.8"
  }
 },
 "nbformat": 4,
 "nbformat_minor": 5
}
