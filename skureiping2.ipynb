{
 "cells": [
  {
   "cell_type": "code",
   "execution_count": 1,
   "id": "0dabff59-89a3-4a01-91dd-3ef0df0e56c1",
   "metadata": {},
   "outputs": [],
   "source": [
    "from selenium import webdriver"
   ]
  },
  {
   "cell_type": "code",
   "execution_count": 3,
   "id": "e6cefe39-f379-4e80-a6a3-474a3b13e3e7",
   "metadata": {},
   "outputs": [],
   "source": [
    "browser = webdriver.Chrome()\n",
    "browser.get('https://scraping-for-beginner.herokuapp.com/login_page')"
   ]
  },
  {
   "cell_type": "code",
   "execution_count": 4,
   "id": "9ea7a92f-9ad1-46ce-8898-08ebb8739d14",
   "metadata": {},
   "outputs": [],
   "source": [
    "elem_username = browser.find_element_by_id('username')\n",
    "elem_username.send_keys('imanishi')"
   ]
  },
  {
   "cell_type": "code",
   "execution_count": 5,
   "id": "be0d1475-14a7-4b0f-9452-113fb1d315de",
   "metadata": {},
   "outputs": [],
   "source": [
    "elem_password = browser.find_element_by_id('password')\n",
    "elem_password.send_keys('kohei')\n"
   ]
  },
  {
   "cell_type": "code",
   "execution_count": 6,
   "id": "ac283e38-321d-473c-a990-bcb0ed153695",
   "metadata": {},
   "outputs": [],
   "source": [
    "elem_login_btn = browser.find_element_by_id('login-btn')\n",
    "elem_login_btn.click()"
   ]
  },
  {
   "cell_type": "code",
   "execution_count": 7,
   "id": "cb6845eb-198b-484b-9477-c01d8fa599bf",
   "metadata": {},
   "outputs": [],
   "source": [
    "elem = browser.find_element_by_id('name')"
   ]
  },
  {
   "cell_type": "code",
   "execution_count": 9,
   "id": "c8f36b04-d8a6-4b30-8e95-935bac4b3c91",
   "metadata": {},
   "outputs": [],
   "source": [
    "name = elem.text"
   ]
  },
  {
   "cell_type": "code",
   "execution_count": 18,
   "id": "7aa3161f-ee4b-4798-87b9-ed9c5ea2472b",
   "metadata": {},
   "outputs": [
    {
     "data": {
      "text/plain": [
       "'今西 航平'"
      ]
     },
     "execution_count": 18,
     "metadata": {},
     "output_type": "execute_result"
    }
   ],
   "source": [
    "name"
   ]
  },
  {
   "cell_type": "code",
   "execution_count": 19,
   "id": "881fc206-b7eb-4850-9340-ea2d6b13e3cf",
   "metadata": {},
   "outputs": [
    {
     "data": {
      "text/plain": [
       "str"
      ]
     },
     "execution_count": 19,
     "metadata": {},
     "output_type": "execute_result"
    }
   ],
   "source": [
    "type(name)"
   ]
  },
  {
   "cell_type": "code",
   "execution_count": 20,
   "id": "94eed416-e7c4-4596-9f08-e7c5e38c934b",
   "metadata": {},
   "outputs": [],
   "source": [
    "elem = browser.find_element_by_id('company')\n",
    "company = elem.text\n",
    "elem = browser.find_element_by_id('birthday')\n",
    "birthday = elem.text\n",
    "elem = browser.find_element_by_id('come_from')\n",
    "come_from = elem.text\n",
    "elem = browser.find_element_by_id('hobby')\n",
    "hobby = elem.text"
   ]
  },
  {
   "cell_type": "code",
   "execution_count": 21,
   "id": "f5ef4e4b-19a4-4890-96ff-6911aa7a2c7a",
   "metadata": {},
   "outputs": [
    {
     "data": {
      "text/plain": [
       "'株式会社キカガク'"
      ]
     },
     "execution_count": 21,
     "metadata": {},
     "output_type": "execute_result"
    }
   ],
   "source": [
    "company"
   ]
  },
  {
   "cell_type": "code",
   "execution_count": 22,
   "id": "294451b9-c005-49bd-8383-89a47db46498",
   "metadata": {},
   "outputs": [
    {
     "data": {
      "text/plain": [
       "'1994年7月15日'"
      ]
     },
     "execution_count": 22,
     "metadata": {},
     "output_type": "execute_result"
    }
   ],
   "source": [
    "birthday"
   ]
  },
  {
   "cell_type": "code",
   "execution_count": 23,
   "id": "f1ba1d5e-fa87-4dc3-9bc4-cedd4425748b",
   "metadata": {},
   "outputs": [
    {
     "data": {
      "text/plain": [
       "'千葉県'"
      ]
     },
     "execution_count": 23,
     "metadata": {},
     "output_type": "execute_result"
    }
   ],
   "source": [
    "come_from"
   ]
  },
  {
   "cell_type": "code",
   "execution_count": 25,
   "id": "35662fef-86f9-4af3-94cf-e5cbb7ed9c25",
   "metadata": {},
   "outputs": [
    {
     "data": {
      "text/plain": [
       "'バスケットボール,読書,ガジェット集め'"
      ]
     },
     "execution_count": 25,
     "metadata": {},
     "output_type": "execute_result"
    }
   ],
   "source": [
    "hobby.replace('\\n',',')"
   ]
  },
  {
   "cell_type": "code",
   "execution_count": 26,
   "id": "2c302a1e-54b2-457c-a6b7-67432817e33a",
   "metadata": {},
   "outputs": [],
   "source": [
    "elem_th = browser.find_element_by_tag_name('th')"
   ]
  },
  {
   "cell_type": "code",
   "execution_count": 28,
   "id": "d19c3887-85c3-4d79-b3f6-a64d1b31343d",
   "metadata": {},
   "outputs": [
    {
     "data": {
      "text/plain": [
       "'講師名'"
      ]
     },
     "execution_count": 28,
     "metadata": {},
     "output_type": "execute_result"
    }
   ],
   "source": [
    "elem_th.text"
   ]
  },
  {
   "cell_type": "code",
   "execution_count": 29,
   "id": "f6d2da5b-d93f-4f8e-906f-02c551a81025",
   "metadata": {},
   "outputs": [],
   "source": [
    "elems_th = browser.find_elements_by_tag_name('th')"
   ]
  },
  {
   "cell_type": "code",
   "execution_count": 34,
   "id": "f71ab825-25ae-4891-8583-f8fb179e4ded",
   "metadata": {},
   "outputs": [
    {
     "data": {
      "text/plain": [
       "'所属企業'"
      ]
     },
     "execution_count": 34,
     "metadata": {},
     "output_type": "execute_result"
    }
   ],
   "source": [
    "elems_th[1].text"
   ]
  },
  {
   "cell_type": "code",
   "execution_count": 35,
   "id": "41697332-b0aa-4f6e-80ea-5f2fe8a2b1f4",
   "metadata": {},
   "outputs": [
    {
     "data": {
      "text/plain": [
       "5"
      ]
     },
     "execution_count": 35,
     "metadata": {},
     "output_type": "execute_result"
    }
   ],
   "source": [
    "len(elems_th)"
   ]
  },
  {
   "cell_type": "code",
   "execution_count": 49,
   "id": "c8c0e4c4-fb73-4865-9189-73c3fce6c3da",
   "metadata": {},
   "outputs": [],
   "source": [
    "keys = []\n",
    "for elem_th in elems_th:\n",
    "    key = elem_th.text\n",
    "    keys.append(key)"
   ]
  },
  {
   "cell_type": "code",
   "execution_count": 50,
   "id": "97bc90f3-940a-4ab3-b056-c55871ed9ce4",
   "metadata": {},
   "outputs": [
    {
     "data": {
      "text/plain": [
       "['講師名', '所属企業', '生年月日', '出身', '趣味']"
      ]
     },
     "execution_count": 50,
     "metadata": {},
     "output_type": "execute_result"
    }
   ],
   "source": [
    "keys"
   ]
  },
  {
   "cell_type": "code",
   "execution_count": 51,
   "id": "d2ef4e58-8087-4277-8e6a-9111ccdc14f7",
   "metadata": {},
   "outputs": [],
   "source": [
    "elems_td = browser.find_elements_by_tag_name('td')\n",
    "values= []\n",
    "for elem_td in elems_td:\n",
    "    value = elem_td.text\n",
    "    values.append(value)"
   ]
  },
  {
   "cell_type": "code",
   "execution_count": 52,
   "id": "9e831943-a235-47cf-8332-b08df41fb329",
   "metadata": {},
   "outputs": [
    {
     "data": {
      "text/plain": [
       "['今西 航平', '株式会社キカガク', '1994年7月15日', '千葉県', 'バスケットボール\\n読書\\nガジェット集め']"
      ]
     },
     "execution_count": 52,
     "metadata": {},
     "output_type": "execute_result"
    }
   ],
   "source": [
    "values"
   ]
  },
  {
   "cell_type": "code",
   "execution_count": 53,
   "id": "5cd1f047-0acf-4b92-8f04-3eee939c1fe1",
   "metadata": {},
   "outputs": [],
   "source": [
    "import pandas as pd"
   ]
  },
  {
   "cell_type": "code",
   "execution_count": 54,
   "id": "eaf1f493-679c-4bf0-aa27-2c999c69ced2",
   "metadata": {},
   "outputs": [],
   "source": [
    "df = pd.DataFrame()"
   ]
  },
  {
   "cell_type": "code",
   "execution_count": 55,
   "id": "4408ca51-8794-4098-8a7f-c5449a699cd2",
   "metadata": {},
   "outputs": [],
   "source": [
    "df['項目'] = keys\n",
    "df['値'] = values"
   ]
  },
  {
   "cell_type": "code",
   "execution_count": 47,
   "id": "0d05e523-190c-41a8-93ce-45d90977f385",
   "metadata": {},
   "outputs": [
    {
     "data": {
      "text/html": [
       "<div>\n",
       "<style scoped>\n",
       "    .dataframe tbody tr th:only-of-type {\n",
       "        vertical-align: middle;\n",
       "    }\n",
       "\n",
       "    .dataframe tbody tr th {\n",
       "        vertical-align: top;\n",
       "    }\n",
       "\n",
       "    .dataframe thead th {\n",
       "        text-align: right;\n",
       "    }\n",
       "</style>\n",
       "<table border=\"1\" class=\"dataframe\">\n",
       "  <thead>\n",
       "    <tr style=\"text-align: right;\">\n",
       "      <th></th>\n",
       "      <th>項目</th>\n",
       "    </tr>\n",
       "  </thead>\n",
       "  <tbody>\n",
       "    <tr>\n",
       "      <th>0</th>\n",
       "      <td>講師名</td>\n",
       "    </tr>\n",
       "    <tr>\n",
       "      <th>1</th>\n",
       "      <td>所属企業</td>\n",
       "    </tr>\n",
       "    <tr>\n",
       "      <th>2</th>\n",
       "      <td>生年月日</td>\n",
       "    </tr>\n",
       "    <tr>\n",
       "      <th>3</th>\n",
       "      <td>出身</td>\n",
       "    </tr>\n",
       "    <tr>\n",
       "      <th>4</th>\n",
       "      <td>趣味</td>\n",
       "    </tr>\n",
       "    <tr>\n",
       "      <th>5</th>\n",
       "      <td>今西 航平</td>\n",
       "    </tr>\n",
       "    <tr>\n",
       "      <th>6</th>\n",
       "      <td>株式会社キカガク</td>\n",
       "    </tr>\n",
       "    <tr>\n",
       "      <th>7</th>\n",
       "      <td>1994年7月15日</td>\n",
       "    </tr>\n",
       "    <tr>\n",
       "      <th>8</th>\n",
       "      <td>千葉県</td>\n",
       "    </tr>\n",
       "    <tr>\n",
       "      <th>9</th>\n",
       "      <td>バスケットボール\\n読書\\nガジェット集め</td>\n",
       "    </tr>\n",
       "  </tbody>\n",
       "</table>\n",
       "</div>"
      ],
      "text/plain": [
       "                      項目\n",
       "0                    講師名\n",
       "1                   所属企業\n",
       "2                   生年月日\n",
       "3                     出身\n",
       "4                     趣味\n",
       "5                  今西 航平\n",
       "6               株式会社キカガク\n",
       "7             1994年7月15日\n",
       "8                    千葉県\n",
       "9  バスケットボール\\n読書\\nガジェット集め"
      ]
     },
     "execution_count": 47,
     "metadata": {},
     "output_type": "execute_result"
    }
   ],
   "source": [
    "df"
   ]
  },
  {
   "cell_type": "code",
   "execution_count": 57,
   "id": "f435bf99-642d-437a-b6fd-15a36f48bcb1",
   "metadata": {},
   "outputs": [],
   "source": [
    "df.to_csv('講師情報.csv',index=False)"
   ]
  },
  {
   "cell_type": "code",
   "execution_count": null,
   "id": "65d296b3-afb2-4861-bc13-31b888b9fcfa",
   "metadata": {},
   "outputs": [],
   "source": []
  }
 ],
 "metadata": {
  "kernelspec": {
   "display_name": "Python 3",
   "language": "python",
   "name": "python3"
  },
  "language_info": {
   "codemirror_mode": {
    "name": "ipython",
    "version": 3
   },
   "file_extension": ".py",
   "mimetype": "text/x-python",
   "name": "python",
   "nbconvert_exporter": "python",
   "pygments_lexer": "ipython3",
   "version": "3.8.8"
  }
 },
 "nbformat": 4,
 "nbformat_minor": 5
}
