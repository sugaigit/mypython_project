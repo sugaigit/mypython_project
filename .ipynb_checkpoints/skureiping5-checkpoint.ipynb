{
 "cells": [
  {
   "cell_type": "code",
   "execution_count": 1,
   "id": "c506bc64-a884-46b9-a4e8-6da3bfafbf09",
   "metadata": {},
   "outputs": [],
   "source": [
    "import requests\n",
    "from bs4 import BeautifulSoup"
   ]
  },
  {
   "cell_type": "code",
   "execution_count": 20,
   "id": "13102dd0-ad85-4201-a8da-47ad00afada7",
   "metadata": {},
   "outputs": [],
   "source": [
    "url = 'https://scraping-for-beginner.herokuapp.com/image'\n",
    "res = requests.get(url)"
   ]
  },
  {
   "cell_type": "code",
   "execution_count": 21,
   "id": "0a049e0e-150f-4f31-acdd-4bea8ec55024",
   "metadata": {},
   "outputs": [
    {
     "data": {
      "text/plain": [
       "<Response [200]>"
      ]
     },
     "execution_count": 21,
     "metadata": {},
     "output_type": "execute_result"
    }
   ],
   "source": [
    "res"
   ]
  },
  {
   "cell_type": "code",
   "execution_count": 22,
   "id": "58b4c15f-9247-4243-9cf7-329c2fd4a343",
   "metadata": {},
   "outputs": [
    {
     "data": {
      "text/plain": [
       "<!DOCTYPE html>\n",
       "\n",
       "<html dir=\"ltr\" lang=\"en\">\n",
       "<head>\n",
       "<meta charset=\"utf-8\"/>\n",
       "<title>Webスクレイピング入門者のためのサイト</title>\n",
       "<!-- Compiled and minified CSS -->\n",
       "<link href=\"https://cdnjs.cloudflare.com/ajax/libs/materialize/1.0.0-rc.2/css/materialize.min.css\" rel=\"stylesheet\"/>\n",
       "<link href=\"https://fonts.googleapis.com/icon?family=Material+Icons\" rel=\"stylesheet\"/> \b\n",
       "  <link href=\"static/assets/css/style.css\" rel=\"stylesheet\"/>\n",
       "<link href=\"static/assets/css/image.css\" rel=\"stylesheet\"/>\n",
       "</head>\n",
       "<body>\n",
       "<!-- Navbar -->\n",
       "<div class=\"navbar-fixed\">\n",
       "<!-- Dropdown Structure -->\n",
       "<nav class=\"\">\n",
       "<div class=\"nav-wrapper row\">\n",
       "<div class=\"col s5 l4 offset-s1 offset-l1\">\n",
       "<a class=\"brand-logo\" href=\"\b/\">Webスクレイピング入門</a>\n",
       "</div>\n",
       "<div class=\"col s5 l6\">\n",
       "<ul class=\"right hide-on-med-and-down\" id=\"nav-mobile\">\n",
       "<li><a class=\"\" href=\"\b/login_page\">ログイン</a></li>\n",
       "<li><a class=\"\" href=\"/ranking/\">ランキング</a></li>\n",
       "<li><a class=\"\" href=\"/image\">画像</a></li>\n",
       "<li><a class=\"\" href=\"/udemy\">Udemy</a></li>\n",
       "<li><a class=\"\" href=\"https://scraping-for-beginner.readthedocs.io/\" target=\"”_blank”\">サンプルコード</a></li>\n",
       "</ul>\n",
       "</div>\n",
       "</div>\n",
       "</nav>\n",
       "</div>\n",
       "<div class=\"section\"></div>\n",
       "<!-- Header -->\n",
       "<!-- <div class=\"header\">\n",
       "  <img src=\"/static/assets/img/camera_icon.png\" width=\"100px\">\n",
       "  <h4 class=\"grey-text text-darken-3\">写真一覧</h4>\n",
       "</div> -->\n",
       "<!-- Photo Grid -->\n",
       "<div class=\"container\">\n",
       "<div class=\"row card\">\n",
       "<div class=\"col s12 m6 l4\"><img class=\"materialbox responsive-img card\" src=\"/static/assets/img/img1.JPG\"/></div>\n",
       "<div class=\"col s12 m6 l4\"><img class=\"materialbox responsive-img card\" src=\"/static/assets/img/img2.JPG\"/></div>\n",
       "<div class=\"col s12 m6 l4\"><img class=\"materialbox responsive-img card\" src=\"/static/assets/img/img3.JPG\"/></div>\n",
       "<div class=\"col s12 m6 l4\"><img class=\"materialbox responsive-img card\" src=\"/static/assets/img/img4.JPG\"/></div>\n",
       "<div class=\"col s12 m6 l4\"><img class=\"materialbox responsive-img card\" src=\"/static/assets/img/img5.JPG\"/></div>\n",
       "<div class=\"col s12 m6 l4\"><img class=\"materialbox responsive-img card\" src=\"/static/assets/img/img6.JPG\"/></div>\n",
       "<div class=\"col s12 m6 l4\"><img class=\"materialbox responsive-img card\" src=\"/static/assets/img/img7.JPG\"/></div>\n",
       "<div class=\"col s12 m6 l4\"><img class=\"materialbox responsive-img card\" src=\"/static/assets/img/img8.JPG\"/></div>\n",
       "<div class=\"col s12 m6 l4\"><img class=\"materialbox responsive-img card\" src=\"/static/assets/img/img9.JPG\"/></div>\n",
       "<div class=\"col s12 m6 l4\"><img class=\"materialbox responsive-img card\" src=\"/static/assets/img/img10.JPG\"/></div>\n",
       "<div class=\"col s12 m6 l4\"><img class=\"materialbox responsive-img card\" src=\"/static/assets/img/img11.JPG\"/></div>\n",
       "<div class=\"col s12 m6 l4\"><img class=\"materialbox responsive-img card\" src=\"/static/assets/img/img12.JPG\"/></div>\n",
       "<div class=\"col s12 m6 l4\"><img class=\"materialbox responsive-img card\" src=\"/static/assets/img/img13.JPG\"/></div>\n",
       "<div class=\"col s12 m6 l4\"><img class=\"materialbox responsive-img card\" src=\"/static/assets/img/img14.JPG\"/></div>\n",
       "<div class=\"col s12 m6 l4\"><img class=\"materialbox responsive-img card\" src=\"/static/assets/img/img15.JPG\"/></div>\n",
       "<div class=\"col s12 m6 l4\"><img class=\"materialbox responsive-img card\" src=\"/static/assets/img/img16.JPG\"/></div>\n",
       "<div class=\"col s12 m6 l4\"><img class=\"materialbox responsive-img card\" src=\"/static/assets/img/img17.JPG\"/></div>\n",
       "<div class=\"col s12 m6 l4\"><img class=\"materialbox responsive-img card\" src=\"/static/assets/img/img18.JPG\"/></div>\n",
       "<div class=\"col s12 m6 l4\"><img class=\"materialbox responsive-img card\" src=\"/static/assets/img/img19.JPG\"/></div>\n",
       "<div class=\"col s12 m6 l4\"><img class=\"materialbox responsive-img card\" src=\"/static/assets/img/img20.JPG\"/></div>\n",
       "<div class=\"col s12 m6 l4\"><img class=\"materialbox responsive-img card\" src=\"/static/assets/img/img21.JPG\"/></div>\n",
       "<div class=\"col s12 m6 l4\"><img class=\"materialbox responsive-img card\" src=\"/static/assets/img/img22.JPG\"/></div>\n",
       "<div class=\"col s12 m6 l4\"><img class=\"materialbox responsive-img card\" src=\"/static/assets/img/img23.JPG\"/></div>\n",
       "<div class=\"col s12 m6 l4\"><img class=\"materialbox responsive-img card\" src=\"/static/assets/img/img24.JPG\"/></div>\n",
       "</div>\n",
       "</div>\n",
       "<div class=\"section\"></div>\n",
       "<div class=\"section\"></div>\n",
       "<!-- Compiled and minified JavaScript -->\n",
       "<script src=\"https://code.jquery.com/jquery-3.3.1.min.js\"></script>\n",
       "<script src=\"https://cdnjs.cloudflare.com/ajax/libs/materialize/1.0.0-rc.2/js/materialize.min.js\"></script>\n",
       "<script>\n",
       "  $(document).ready(function() {\n",
       "    $(\".dropdown-trigger\").dropdown();\n",
       "    $('.materialbox').materialbox();\n",
       "  });\n",
       "</script>\n",
       "</body>\n",
       "</html>"
      ]
     },
     "execution_count": 22,
     "metadata": {},
     "output_type": "execute_result"
    }
   ],
   "source": [
    "soup = BeautifulSoup(res.text,'html.parser')\n",
    "soup"
   ]
  },
  {
   "cell_type": "code",
   "execution_count": 23,
   "id": "940589a1-0c0f-495a-930e-de9d03e4e9d8",
   "metadata": {},
   "outputs": [
    {
     "data": {
      "text/plain": [
       "'/static/assets/img/img1.JPG'"
      ]
     },
     "execution_count": 23,
     "metadata": {},
     "output_type": "execute_result"
    }
   ],
   "source": [
    "img_tag = soup.find('img')\n",
    "img_tag['src']"
   ]
  },
  {
   "cell_type": "code",
   "execution_count": 24,
   "id": "799631e8-36b6-482c-a95b-9d4770f8394d",
   "metadata": {},
   "outputs": [
    {
     "data": {
      "text/plain": [
       "'https://scraping-for-beginner.herokuapp.com/static/assets/img/img1.JPG'"
      ]
     },
     "execution_count": 24,
     "metadata": {},
     "output_type": "execute_result"
    }
   ],
   "source": [
    "root_url = 'https://scraping-for-beginner.herokuapp.com'\n",
    "img_url = root_url + img_tag['src']\n",
    "img_url"
   ]
  },
  {
   "cell_type": "markdown",
   "id": "426e468d-4865-424a-b060-12096dff726d",
   "metadata": {},
   "source": []
  },
  {
   "cell_type": "code",
   "execution_count": 25,
   "id": "ca303b11-7d9f-48db-87ab-692edbcc3cad",
   "metadata": {},
   "outputs": [
    {
     "name": "stdout",
     "output_type": "stream",
     "text": [
      "Requirement already satisfied: Pillow in /Users/sugaitaisei/opt/anaconda3/lib/python3.8/site-packages (8.2.0)\n"
     ]
    }
   ],
   "source": [
    "!pip install Pillow"
   ]
  },
  {
   "cell_type": "code",
   "execution_count": 28,
   "id": "934c267d-3468-4797-a1c1-f351a8a15d98",
   "metadata": {},
   "outputs": [],
   "source": [
    "from PIL import Image\n",
    "import io"
   ]
  },
  {
   "cell_type": "code",
   "execution_count": 38,
   "id": "d1f1290e-ef5f-4601-bbe8-d791181d68cd",
   "metadata": {},
   "outputs": [],
   "source": [
    "img = Image.open(io.BytesIO(requests.get(img_url).content))\n",
    "img.save('img/sample.jpg')"
   ]
  },
  {
   "cell_type": "code",
   "execution_count": 40,
   "id": "e7aecef9-16fe-4b3f-a696-f802c24b5114",
   "metadata": {},
   "outputs": [
    {
     "data": {
      "text/plain": [
       "[<img class=\"materialbox responsive-img card\" src=\"/static/assets/img/img1.JPG\"/>,\n",
       " <img class=\"materialbox responsive-img card\" src=\"/static/assets/img/img2.JPG\"/>,\n",
       " <img class=\"materialbox responsive-img card\" src=\"/static/assets/img/img3.JPG\"/>,\n",
       " <img class=\"materialbox responsive-img card\" src=\"/static/assets/img/img4.JPG\"/>,\n",
       " <img class=\"materialbox responsive-img card\" src=\"/static/assets/img/img5.JPG\"/>,\n",
       " <img class=\"materialbox responsive-img card\" src=\"/static/assets/img/img6.JPG\"/>,\n",
       " <img class=\"materialbox responsive-img card\" src=\"/static/assets/img/img7.JPG\"/>,\n",
       " <img class=\"materialbox responsive-img card\" src=\"/static/assets/img/img8.JPG\"/>,\n",
       " <img class=\"materialbox responsive-img card\" src=\"/static/assets/img/img9.JPG\"/>,\n",
       " <img class=\"materialbox responsive-img card\" src=\"/static/assets/img/img10.JPG\"/>,\n",
       " <img class=\"materialbox responsive-img card\" src=\"/static/assets/img/img11.JPG\"/>,\n",
       " <img class=\"materialbox responsive-img card\" src=\"/static/assets/img/img12.JPG\"/>,\n",
       " <img class=\"materialbox responsive-img card\" src=\"/static/assets/img/img13.JPG\"/>,\n",
       " <img class=\"materialbox responsive-img card\" src=\"/static/assets/img/img14.JPG\"/>,\n",
       " <img class=\"materialbox responsive-img card\" src=\"/static/assets/img/img15.JPG\"/>,\n",
       " <img class=\"materialbox responsive-img card\" src=\"/static/assets/img/img16.JPG\"/>,\n",
       " <img class=\"materialbox responsive-img card\" src=\"/static/assets/img/img17.JPG\"/>,\n",
       " <img class=\"materialbox responsive-img card\" src=\"/static/assets/img/img18.JPG\"/>,\n",
       " <img class=\"materialbox responsive-img card\" src=\"/static/assets/img/img19.JPG\"/>,\n",
       " <img class=\"materialbox responsive-img card\" src=\"/static/assets/img/img20.JPG\"/>,\n",
       " <img class=\"materialbox responsive-img card\" src=\"/static/assets/img/img21.JPG\"/>,\n",
       " <img class=\"materialbox responsive-img card\" src=\"/static/assets/img/img22.JPG\"/>,\n",
       " <img class=\"materialbox responsive-img card\" src=\"/static/assets/img/img23.JPG\"/>,\n",
       " <img class=\"materialbox responsive-img card\" src=\"/static/assets/img/img24.JPG\"/>]"
      ]
     },
     "execution_count": 40,
     "metadata": {},
     "output_type": "execute_result"
    }
   ],
   "source": [
    "img_tags = soup.find_all('img')\n",
    "img_tags"
   ]
  },
  {
   "cell_type": "code",
   "execution_count": null,
   "id": "4ac146fb-87e4-445b-875b-9faece9c05cc",
   "metadata": {},
   "outputs": [],
   "source": [
    "soup = BeautifulSoup(res.text,'html.parser')\n",
    "img_tag = soup.find_all('img')\n",
    "\n",
    "root_url = 'https://scraping-for-beginner.herokuapp.com'\n",
    "img_url = root_url + img_tag['src']\n",
    "\n",
    "img = Image.open(io.BytesIO(requests.get(img_url).content))\n",
    "img.save('img/sample.jpg')"
   ]
  },
  {
   "cell_type": "code",
   "execution_count": 41,
   "id": "ac0edcf6-694f-41e7-813d-16989e2fcf84",
   "metadata": {},
   "outputs": [],
   "source": [
    "img_tags = soup.find_all('img')\n",
    "for i, img_tag in enumerate(img_tags):\n",
    "    root_url = 'https://scraping-for-beginner.herokuapp.com'\n",
    "    img_url = root_url + img_tag['src']\n",
    "\n",
    "    img = Image.open(io.BytesIO(requests.get(img_url).content))\n",
    "    img.save(f'img/{i}.jpg')"
   ]
  },
  {
   "cell_type": "code",
   "execution_count": null,
   "id": "1f71527e-1472-4307-98f3-0d8f4674e4f6",
   "metadata": {},
   "outputs": [],
   "source": []
  },
  {
   "cell_type": "code",
   "execution_count": null,
   "id": "c3e8c104-f82a-4896-acdc-4e9231087f0f",
   "metadata": {},
   "outputs": [],
   "source": []
  },
  {
   "cell_type": "code",
   "execution_count": null,
   "id": "6b4401d7-e9d6-4359-88cf-9889805d85bd",
   "metadata": {},
   "outputs": [],
   "source": []
  },
  {
   "cell_type": "code",
   "execution_count": null,
   "id": "47052259-d59c-427e-8cb6-6ee03a9cee45",
   "metadata": {},
   "outputs": [],
   "source": []
  },
  {
   "cell_type": "code",
   "execution_count": null,
   "id": "5df5a045-1c70-4930-992a-159e2cf65ec1",
   "metadata": {},
   "outputs": [],
   "source": []
  },
  {
   "cell_type": "code",
   "execution_count": null,
   "id": "0c052d4a-ee66-41d5-9b79-47f6c726fb71",
   "metadata": {},
   "outputs": [],
   "source": []
  },
  {
   "cell_type": "code",
   "execution_count": null,
   "id": "8bf9be83-c4e4-4870-a2c7-59e83edd91b3",
   "metadata": {},
   "outputs": [],
   "source": []
  },
  {
   "cell_type": "code",
   "execution_count": null,
   "id": "0e868f74-3c7f-47ff-8e1c-9345166004b5",
   "metadata": {},
   "outputs": [],
   "source": []
  }
 ],
 "metadata": {
  "kernelspec": {
   "display_name": "Python 3",
   "language": "python",
   "name": "python3"
  },
  "language_info": {
   "codemirror_mode": {
    "name": "ipython",
    "version": 3
   },
   "file_extension": ".py",
   "mimetype": "text/x-python",
   "name": "python",
   "nbconvert_exporter": "python",
   "pygments_lexer": "ipython3",
   "version": "3.8.8"
  }
 },
 "nbformat": 4,
 "nbformat_minor": 5
}
